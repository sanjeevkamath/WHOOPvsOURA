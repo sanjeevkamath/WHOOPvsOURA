{
 "cells": [
  {
   "cell_type": "code",
   "execution_count": 5,
   "metadata": {},
   "outputs": [],
   "source": [
    "import json\n",
    "import numpy as np\n",
    "from datetime import datetime\n",
    "import matplotlib.pyplot as plt"
   ]
  },
  {
   "cell_type": "code",
   "execution_count": 6,
   "metadata": {},
   "outputs": [],
   "source": [
    "def clean_sleep_data(input_file_path, output_file_path):\n",
    "    with open(input_file_path, 'r') as f:\n",
    "        data = json.load(f)\n",
    "\n",
    "    # keys to remove\n",
    "    keys_to_remove = [\"heart_rate\", \"awake_time\", \"bedtime_end_delta\", \"average_breath_variation\",\n",
    "                      \"average_heart_rate\", \"average_hrv\", \"contributors\", \"efficiency\",\n",
    "                      \"got_ups\", \"heart_rate\", \"hrv\", \"latency\", \"lowest_heart_rate\",\n",
    "                      \"lowest_heart_rate_time_offset\", \"movement_30_sec\", \"period\",\n",
    "                      \"readiness\", \"readiness_score_delta\", \"restless_periods\"\n",
    "                      \"score\", \"segment_state\", \"sleep_algorithm_version\",\n",
    "                      \"sleep_midpoint\", \"sleep_score_delta\", \"type\", \"wake_ups\",\n",
    "                      \"sleep_phase_5_min\", \"timezone\", \"bedtime_start_delta\",\n",
    "                      \"bedtime_end_delta\", \"midpoint_at_delta\", \"restless_periods\",\n",
    "                      \"score\", \"time_in_bed\", \"total_sleep_duration\", \"restless\"]\n",
    "\n",
    "    # Iterate over each entry and remove irrelevant keys\n",
    "    for entry in data['sleep']:\n",
    "        for key in keys_to_remove:\n",
    "            if key in entry:\n",
    "                del entry[key]\n",
    "\n",
    "        start_time = datetime.fromisoformat(entry[\"bedtime_start\"][:-6])\n",
    "        end_time = datetime.fromisoformat(entry[\"bedtime_end\"][:-6])\n",
    "\n",
    "        # Calculate TST in seconds from start and end time\n",
    "        total_sleep_seconds = (end_time - start_time).total_seconds()\n",
    "\n",
    "        # Add total sleep time to entry\n",
    "        entry[\"total_sleep_seconds\"] = total_sleep_seconds\n",
    "\n",
    "    # Write cleaned data to a new JSON file\n",
    "    with open(output_file_path, 'w') as f:\n",
    "        json.dump(data, f, indent=2)\n",
    "\n",
    "input_file_path = 'oura_sleepJSON.json'\n",
    "output_file_path = 'cleaned_oura_SleepData.json'\n",
    "clean_sleep_data('oura_sleepJSON.json', 'cleaned_oura_SleepData.json')\n"
   ]
  }
 ],
 "metadata": {
  "kernelspec": {
   "display_name": "Python 3",
   "language": "python",
   "name": "python3"
  },
  "language_info": {
   "codemirror_mode": {
    "name": "ipython",
    "version": 3
   },
   "file_extension": ".py",
   "mimetype": "text/x-python",
   "name": "python",
   "nbconvert_exporter": "python",
   "pygments_lexer": "ipython3",
   "version": "3.12.1"
  }
 },
 "nbformat": 4,
 "nbformat_minor": 2
}
