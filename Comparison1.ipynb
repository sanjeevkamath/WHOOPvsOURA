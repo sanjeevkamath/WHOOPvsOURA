{
 "cells": [
  {
   "cell_type": "code",
   "execution_count": null,
   "metadata": {},
   "outputs": [],
   "source": [
    "import pandas as pd\n",
    "import matplotlib.pyplot as plt\n",
    "\n",
    "\n",
    "# Step 1 - Load Data from CSV\n",
    "oura_data = pd.read_csv('oura_sleep.csv')\n",
    "whoop_data = pd.read_csv('whoop_sleep.csv')\n",
    "\n",
    "# Step 2 - Data Cleaning\n",
    "oura_data = oura_data[oura_data['type'] == 'long_sleep']\n",
    "print(oura_data['day'])\n",
    "whoop_data = whoop_data[whoop_data['Nap'] == False]\n",
    "print(whoop_data['Cycle end time'])"
   ]
  }
 ],
 "metadata": {
  "kernelspec": {
   "display_name": "Python 3",
   "language": "python",
   "name": "python3"
  },
  "language_info": {
   "codemirror_mode": {
    "name": "ipython",
    "version": 3
   },
   "file_extension": ".py",
   "mimetype": "text/x-python",
   "name": "python",
   "nbconvert_exporter": "python",
   "pygments_lexer": "ipython3",
   "version": "3.12.1"
  }
 },
 "nbformat": 4,
 "nbformat_minor": 2
}
